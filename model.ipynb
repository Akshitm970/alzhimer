{
 "cells": [
  {
   "cell_type": "code",
   "execution_count": null,
   "metadata": {},
   "outputs": [],
   "source": [
    "from pathlib import Path\n",
    "from PIL import Image\n",
    "from tensorflow.keras.preprocessing.image import load_img, img_to_array\n",
    "#Image path\n",
    "path = Path('dataset/ModerateDemented/moderateDem0.jpg')\n",
    "img = image.load_img(path, target_size=(176,176))\n",
    "image_array = img_to_array(img) / 255.0\n",
    "image_array = np.expand_dims(image_array, axis=0)\n",
    "\n",
    "img_array = image_array.reshape((1, 176, 176, 3))\n",
    "k\n",
    "\n",
    "predictions = model.predict(image_array)\n",
    "\n",
    "#print(predictions)\n",
    "predicted_label = train_labels[np.argmax(predictions)]"
   ]
  }
 ],
 "metadata": {
  "kernelspec": {
   "display_name": "Python 3",
   "language": "python",
   "name": "python3"
  },
  "language_info": {
   "name": "python",
   "version": "3.10.8"
  }
 },
 "nbformat": 4,
 "nbformat_minor": 2
}
